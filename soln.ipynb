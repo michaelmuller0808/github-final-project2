{
 "cells": [
  {
   "cell_type": "markdown",
   "metadata": {},
   "source": [
    "# Peer-graded Assignment: Capstone Project\n",
    "\n",
    "The following questions are being evaluated as part of the peer review submission:\n",
    "\n",
    "1: Are there unit tests for the API?\n",
    "\n",
    "2: Are there unit tests for the model?\n",
    "\n",
    "3: Are there unit tests for the logging?\n",
    "\n",
    "4: Can all of the unit tests be run with a single script and do all of the unit tests pass?\n",
    "\n",
    "5: Is there a mechanism to monitor performance?\n",
    "\n",
    "6: Was there an attempt to isolate the read/write unit tests from production models and logs?\n",
    "\n",
    "7: Does the API work as expected? For example, can you get predictions for a specific country as well as for all countries combined?\n",
    "\n",
    "8: Does the data ingestion exists as a function or script to facilitate automation?\n",
    "\n",
    "9: Were multiple models compared?\n",
    "\n",
    "10: Did the EDA investigation use visualizations?\n",
    "\n",
    "11: Is everything containerized within a working Docker image?\n",
    "\n",
    "12: Did they use a visualization to compare their model to the baseline model?"
   ]
  },
  {
   "cell_type": "code",
   "execution_count": 89,
   "metadata": {},
   "outputs": [],
   "source": [
    "import os\n",
    "import sys\n",
    "import csv\n",
    "import requests\n",
    "from collections import Counter\n",
    "from datetime import date\n",
    "from ast import literal_eval\n",
    "import numpy as np\n",
    "import pandas as pd\n",
    "import matplotlib.pyplot as plt\n",
    "\n",
    "%matplotlib inline"
   ]
  },
  {
   "cell_type": "markdown",
   "metadata": {},
   "source": [
    "## Getting started\n",
    "\n",
    "We will be working with an Flask API to interact with our model. In order to access the different endpoints of this API make sure the app is running. Open a new command prompt and run the app with the command :\n",
    "\n",
    "\n",
    "```\n",
    "python path/to/working/directory/app.py -d\n",
    "```"
   ]
  },
  {
   "cell_type": "markdown",
   "metadata": {},
   "source": [
    "## TASK 1: Logger test"
   ]
  },
  {
   "cell_type": "code",
   "execution_count": 90,
   "metadata": {},
   "outputs": [
    {
     "name": "stderr",
     "output_type": "stream",
     "text": [
      "....\n",
      "----------------------------------------------------------------------\n",
      "Ran 4 tests in 0.006s\n",
      "\n",
      "OK\n"
     ]
    }
   ],
   "source": [
    "!python ./unittests/LoggerTests.py"
   ]
  },
  {
   "cell_type": "markdown",
   "metadata": {},
   "source": [
    "## TASK 2: Api test"
   ]
  },
  {
   "cell_type": "code",
   "execution_count": 91,
   "metadata": {},
   "outputs": [
    {
     "name": "stdout",
     "output_type": "stream",
     "text": [
      "[]\n"
     ]
    },
    {
     "name": "stderr",
     "output_type": "stream",
     "text": [
      "....\n",
      "----------------------------------------------------------------------\n",
      "Ran 4 tests in 2.628s\n",
      "\n",
      "OK\n"
     ]
    }
   ],
   "source": [
    "# The API is ready we can test it. We invite you to take a close look into the ApiTests.py script.\n",
    "!python ./unittests/ApiTests.py"
   ]
  },
  {
   "cell_type": "markdown",
   "metadata": {},
   "source": [
    "### SOLUTION NOTE\n",
    "\n",
    "We can now access the logs through the API"
   ]
  },
  {
   "cell_type": "code",
   "execution_count": 92,
   "metadata": {},
   "outputs": [
    {
     "name": "stdout",
     "output_type": "stream",
     "text": [
      "unique_id,timestamp,x_shape,eval_test,model_version,model_version_note,runtime\n",
      "72d4727b-e991-4a14-a0c5-1b90cf0236df,1731940793.04975,\"(100, 10)\",{'rmse': 0.5},0.1,test model,00:00:01\n",
      "bd6906fb-e2ff-4448-a6bc-bd3f325df9eb,1731940793.0502937,\"(100, 10)\",{'rmse': 0.5},0.1,test model,00:00:01\n",
      "e3345543-f497-46a1-b19d-eb210376b745,1731940794.889369,all,\"('2017-11-30', '2019-05-28')\",000:00:01,0.1,{'rmse': 37115}\n",
      "5af33a0d-36ac-40c3-9a98-8481f3a5c7a9,1731940796.058989,united_kingdom,\"('2017-11-29', '2019-05-28')\",000:00:01,0.1,{'rmse': 25960}\n",
      "\n"
     ]
    }
   ],
   "source": [
    "r = requests.get('http://127.0.0.1:8080/logs/train-test.log')\n",
    "print(r.text)"
   ]
  },
  {
   "cell_type": "markdown",
   "metadata": {},
   "source": [
    "## TASK 3: Make sure all tests pass"
   ]
  },
  {
   "cell_type": "code",
   "execution_count": 93,
   "metadata": {},
   "outputs": [
    {
     "name": "stdout",
     "output_type": "stream",
     "text": [
      "[]\n",
      "... test flag on\n",
      "...... subseting data\n",
      "...... subseting countries\n",
      "... loading ts data from files:data\\cs-train\n",
      "... saving test version of model: models\\test-all-0_1.joblib\n",
      "... saving test version of model: models\\test-united_kingdom-0_1.joblib\n",
      "... loading ts data from files:data\\cs-train\n",
      "... loading ts data from files:data\\cs-train\n",
      "... loading ts data from files:data\\cs-train\n",
      "2018-01-05\n",
      "{'y_pred': array([184402.71888]), 'y_proba': None}\n"
     ]
    },
    {
     "name": "stderr",
     "output_type": "stream",
     "text": [
      "...........\n",
      "----------------------------------------------------------------------\n",
      "Ran 11 tests in 36.629s\n",
      "\n",
      "OK\n"
     ]
    }
   ],
   "source": [
    "!python run-tests.py"
   ]
  },
  {
   "cell_type": "markdown",
   "metadata": {},
   "source": [
    "## TASK 4: Performance investigative tooling"
   ]
  },
  {
   "cell_type": "code",
   "execution_count": 94,
   "metadata": {},
   "outputs": [
    {
     "name": "stdout",
     "output_type": "stream",
     "text": [
      "... test flag on\n",
      "...... subseting data\n",
      "...... subseting countries\n",
      "... loading ts data from files:data\\cs-train\n",
      "... saving test version of model: models\\test-all-0_1.joblib\n",
      "... saving test version of model: models\\test-united_kingdom-0_1.joblib\n",
      "... loading ts data from files:data\\cs-train\n",
      "model training complete.\n"
     ]
    }
   ],
   "source": [
    "! python run-model-train.py"
   ]
  },
  {
   "cell_type": "markdown",
   "metadata": {},
   "source": [
    "## TASK 5: Describe data"
   ]
  },
  {
   "cell_type": "code",
   "execution_count": 95,
   "metadata": {},
   "outputs": [],
   "source": [
    "## Describe train data"
   ]
  },
  {
   "cell_type": "code",
   "execution_count": 96,
   "metadata": {},
   "outputs": [
    {
     "name": "stdout",
     "output_type": "stream",
     "text": [
      "... loading ts data from files:data\\cs-train\n",
      "all (607, 7)\n",
      "eire (607, 7)\n",
      "france (607, 7)\n",
      "germany (607, 7)\n",
      "hong_kong (426, 7)\n",
      "netherlands (607, 7)\n",
      "norway (577, 7)\n",
      "portugal (607, 7)\n",
      "singapore (456, 7)\n",
      "spain (607, 7)\n",
      "united_kingdom (607, 7)\n"
     ]
    }
   ],
   "source": [
    "from cslib import fetch_ts\n",
    "\n",
    "data_train_dir = os.path.join(\"data\",\"cs-train\")\n",
    "ts_train_all = fetch_ts(data_train_dir,clean=False)\n",
    "data_train = []\n",
    "for key,item in ts_train_all.items():\n",
    "    print(key,item.shape)\n",
    "    if key !='all':\n",
    "        item['country'] = key\n",
    "        data_train.append(item)"
   ]
  },
  {
   "cell_type": "code",
   "execution_count": 97,
   "metadata": {},
   "outputs": [
    {
     "data": {
      "text/html": [
       "<div>\n",
       "<style scoped>\n",
       "    .dataframe tbody tr th:only-of-type {\n",
       "        vertical-align: middle;\n",
       "    }\n",
       "\n",
       "    .dataframe tbody tr th {\n",
       "        vertical-align: top;\n",
       "    }\n",
       "\n",
       "    .dataframe thead th {\n",
       "        text-align: right;\n",
       "    }\n",
       "</style>\n",
       "<table border=\"1\" class=\"dataframe\">\n",
       "  <thead>\n",
       "    <tr style=\"text-align: right;\">\n",
       "      <th></th>\n",
       "      <th>date</th>\n",
       "      <th>purchases</th>\n",
       "      <th>unique_invoices</th>\n",
       "      <th>unique_streams</th>\n",
       "      <th>total_views</th>\n",
       "      <th>year_month</th>\n",
       "      <th>revenue</th>\n",
       "      <th>country</th>\n",
       "      <th>year</th>\n",
       "    </tr>\n",
       "  </thead>\n",
       "  <tbody>\n",
       "    <tr>\n",
       "      <th>0</th>\n",
       "      <td>2017-11-01</td>\n",
       "      <td>0</td>\n",
       "      <td>0</td>\n",
       "      <td>0</td>\n",
       "      <td>0</td>\n",
       "      <td>2017-11</td>\n",
       "      <td>0.0</td>\n",
       "      <td>eire</td>\n",
       "      <td>2017</td>\n",
       "    </tr>\n",
       "    <tr>\n",
       "      <th>1</th>\n",
       "      <td>2017-11-02</td>\n",
       "      <td>0</td>\n",
       "      <td>0</td>\n",
       "      <td>0</td>\n",
       "      <td>0</td>\n",
       "      <td>2017-11</td>\n",
       "      <td>0.0</td>\n",
       "      <td>eire</td>\n",
       "      <td>2017</td>\n",
       "    </tr>\n",
       "    <tr>\n",
       "      <th>2</th>\n",
       "      <td>2017-11-03</td>\n",
       "      <td>0</td>\n",
       "      <td>0</td>\n",
       "      <td>0</td>\n",
       "      <td>0</td>\n",
       "      <td>2017-11</td>\n",
       "      <td>0.0</td>\n",
       "      <td>eire</td>\n",
       "      <td>2017</td>\n",
       "    </tr>\n",
       "    <tr>\n",
       "      <th>3</th>\n",
       "      <td>2017-11-04</td>\n",
       "      <td>0</td>\n",
       "      <td>0</td>\n",
       "      <td>0</td>\n",
       "      <td>0</td>\n",
       "      <td>2017-11</td>\n",
       "      <td>0.0</td>\n",
       "      <td>eire</td>\n",
       "      <td>2017</td>\n",
       "    </tr>\n",
       "    <tr>\n",
       "      <th>4</th>\n",
       "      <td>2017-11-05</td>\n",
       "      <td>0</td>\n",
       "      <td>0</td>\n",
       "      <td>0</td>\n",
       "      <td>0</td>\n",
       "      <td>2017-11</td>\n",
       "      <td>0.0</td>\n",
       "      <td>eire</td>\n",
       "      <td>2017</td>\n",
       "    </tr>\n",
       "  </tbody>\n",
       "</table>\n",
       "</div>"
      ],
      "text/plain": [
       "         date  purchases  unique_invoices  unique_streams  total_views  \\\n",
       "0  2017-11-01          0                0               0            0   \n",
       "1  2017-11-02          0                0               0            0   \n",
       "2  2017-11-03          0                0               0            0   \n",
       "3  2017-11-04          0                0               0            0   \n",
       "4  2017-11-05          0                0               0            0   \n",
       "\n",
       "  year_month  revenue country  year  \n",
       "0    2017-11      0.0    eire  2017  \n",
       "1    2017-11      0.0    eire  2017  \n",
       "2    2017-11      0.0    eire  2017  \n",
       "3    2017-11      0.0    eire  2017  \n",
       "4    2017-11      0.0    eire  2017  "
      ]
     },
     "execution_count": 97,
     "metadata": {},
     "output_type": "execute_result"
    }
   ],
   "source": [
    "tb_train = pd.concat(data_train)\n",
    "year = tb_train['year_month'].apply(lambda x: x.split('-')[0])\n",
    "tb_train['year'] = year\n",
    "tb_train.head()"
   ]
  },
  {
   "cell_type": "code",
   "execution_count": 98,
   "metadata": {},
   "outputs": [
    {
     "name": "stdout",
     "output_type": "stream",
     "text": [
      "country\n",
      "eire               104589.400\n",
      "france              38985.420\n",
      "germany             45651.261\n",
      "hong_kong           14393.130\n",
      "netherlands         12296.780\n",
      "norway              38326.120\n",
      "portugal            13327.210\n",
      "singapore           12945.460\n",
      "spain               15393.360\n",
      "united_kingdom    3343551.644\n",
      "Name: revenue, dtype: float64\n"
     ]
    }
   ],
   "source": [
    "print( tb_train.groupby(['country'])['revenue'].sum())"
   ]
  },
  {
   "cell_type": "code",
   "execution_count": 99,
   "metadata": {},
   "outputs": [
    {
     "data": {
      "image/png": "[encoded data removed]",
      "text/plain": [
       "<Figure size 640x480 with 1 Axes>"
      ]
     },
     "metadata": {},
     "output_type": "display_data"
    }
   ],
   "source": [
    "res_train_uk = tb_train[tb_train['country'] == 'united_kingdom'].groupby(['country','year'])['revenue'].sum().unstack()\n",
    "ax_train_uk = res_train_uk.plot.barh()\n",
    "ax_train_uk.set_xscale(\"log\")"
   ]
  },
  {
   "cell_type": "code",
   "execution_count": 100,
   "metadata": {},
   "outputs": [
    {
     "data": {
      "image/png": "[encoded data removed]",
      "text/plain": [
       "<Figure size 640x480 with 1 Axes>"
      ]
     },
     "metadata": {},
     "output_type": "display_data"
    }
   ],
   "source": [
    "res_train_all = tb_train.groupby(['country','year'])['revenue'].sum().unstack()\n",
    "ax_train_all = res_train_all.plot.barh()"
   ]
  },
  {
   "cell_type": "code",
   "execution_count": 101,
   "metadata": {},
   "outputs": [
    {
     "data": {
      "image/png": "[encoded data removed]",
      "text/plain": [
       "<Figure size 640x480 with 1 Axes>"
      ]
     },
     "metadata": {},
     "output_type": "display_data"
    }
   ],
   "source": [
    "ax_res_train_all_log = res_train_all.plot.barh()\n",
    "ax_res_train_all_log.set_xscale(\"log\")"
   ]
  },
  {
   "cell_type": "code",
   "execution_count": 102,
   "metadata": {},
   "outputs": [],
   "source": [
    "## TASK 5: Describe production data"
   ]
  },
  {
   "cell_type": "code",
   "execution_count": 103,
   "metadata": {},
   "outputs": [
    {
     "name": "stdout",
     "output_type": "stream",
     "text": [
      "... loading ts data from files:data\\cs-production\n",
      "all (122, 7)\n",
      "belgium (122, 7)\n",
      "eire (122, 7)\n",
      "france (122, 7)\n",
      "germany (122, 7)\n",
      "hong_kong (92, 7)\n",
      "netherlands (122, 7)\n",
      "portugal (122, 7)\n",
      "singapore (0, 7)\n",
      "spain (122, 7)\n",
      "united_kingdom (122, 7)\n"
     ]
    }
   ],
   "source": [
    "data_prod_dir = os.path.join(\"data\",\"cs-production\")\n",
    "ts_prod_all = fetch_ts(data_prod_dir,clean=False)\n",
    "data_prod = []\n",
    "for key,item in ts_prod_all.items():\n",
    "    print(key,item.shape)\n",
    "    if key !='all':\n",
    "        item['country'] = key\n",
    "        data_prod.append(item)"
   ]
  },
  {
   "cell_type": "code",
   "execution_count": 104,
   "metadata": {},
   "outputs": [
    {
     "name": "stderr",
     "output_type": "stream",
     "text": [
      "C:\\Users\\garne\\AppData\\Local\\Temp\\ipykernel_24864\\2283777596.py:1: FutureWarning: The behavior of DataFrame concatenation with empty or all-NA entries is deprecated. In a future version, this will no longer exclude empty or all-NA columns when determining the result dtypes. To retain the old behavior, exclude the relevant entries before the concat operation.\n",
      "  tb_prod = pd.concat(data_prod)\n"
     ]
    },
    {
     "data": {
      "text/html": [
       "<div>\n",
       "<style scoped>\n",
       "    .dataframe tbody tr th:only-of-type {\n",
       "        vertical-align: middle;\n",
       "    }\n",
       "\n",
       "    .dataframe tbody tr th {\n",
       "        vertical-align: top;\n",
       "    }\n",
       "\n",
       "    .dataframe thead th {\n",
       "        text-align: right;\n",
       "    }\n",
       "</style>\n",
       "<table border=\"1\" class=\"dataframe\">\n",
       "  <thead>\n",
       "    <tr style=\"text-align: right;\">\n",
       "      <th></th>\n",
       "      <th>date</th>\n",
       "      <th>purchases</th>\n",
       "      <th>unique_invoices</th>\n",
       "      <th>unique_streams</th>\n",
       "      <th>total_views</th>\n",
       "      <th>year_month</th>\n",
       "      <th>revenue</th>\n",
       "      <th>country</th>\n",
       "      <th>year</th>\n",
       "    </tr>\n",
       "  </thead>\n",
       "  <tbody>\n",
       "    <tr>\n",
       "      <th>0</th>\n",
       "      <td>2019-08-01</td>\n",
       "      <td>21</td>\n",
       "      <td>1</td>\n",
       "      <td>21</td>\n",
       "      <td>131</td>\n",
       "      <td>2019-08</td>\n",
       "      <td>96.25</td>\n",
       "      <td>belgium</td>\n",
       "      <td>2019</td>\n",
       "    </tr>\n",
       "    <tr>\n",
       "      <th>1</th>\n",
       "      <td>2019-08-02</td>\n",
       "      <td>0</td>\n",
       "      <td>0</td>\n",
       "      <td>0</td>\n",
       "      <td>0</td>\n",
       "      <td>2019-08</td>\n",
       "      <td>0.00</td>\n",
       "      <td>belgium</td>\n",
       "      <td>2019</td>\n",
       "    </tr>\n",
       "    <tr>\n",
       "      <th>2</th>\n",
       "      <td>2019-08-03</td>\n",
       "      <td>0</td>\n",
       "      <td>0</td>\n",
       "      <td>0</td>\n",
       "      <td>0</td>\n",
       "      <td>2019-08</td>\n",
       "      <td>0.00</td>\n",
       "      <td>belgium</td>\n",
       "      <td>2019</td>\n",
       "    </tr>\n",
       "    <tr>\n",
       "      <th>3</th>\n",
       "      <td>2019-08-04</td>\n",
       "      <td>0</td>\n",
       "      <td>0</td>\n",
       "      <td>0</td>\n",
       "      <td>0</td>\n",
       "      <td>2019-08</td>\n",
       "      <td>0.00</td>\n",
       "      <td>belgium</td>\n",
       "      <td>2019</td>\n",
       "    </tr>\n",
       "    <tr>\n",
       "      <th>4</th>\n",
       "      <td>2019-08-05</td>\n",
       "      <td>0</td>\n",
       "      <td>0</td>\n",
       "      <td>0</td>\n",
       "      <td>0</td>\n",
       "      <td>2019-08</td>\n",
       "      <td>0.00</td>\n",
       "      <td>belgium</td>\n",
       "      <td>2019</td>\n",
       "    </tr>\n",
       "  </tbody>\n",
       "</table>\n",
       "</div>"
      ],
      "text/plain": [
       "         date purchases unique_invoices unique_streams total_views year_month  \\\n",
       "0  2019-08-01        21               1             21         131    2019-08   \n",
       "1  2019-08-02         0               0              0           0    2019-08   \n",
       "2  2019-08-03         0               0              0           0    2019-08   \n",
       "3  2019-08-04         0               0              0           0    2019-08   \n",
       "4  2019-08-05         0               0              0           0    2019-08   \n",
       "\n",
       "   revenue  country  year  \n",
       "0    96.25  belgium  2019  \n",
       "1     0.00  belgium  2019  \n",
       "2     0.00  belgium  2019  \n",
       "3     0.00  belgium  2019  \n",
       "4     0.00  belgium  2019  "
      ]
     },
     "execution_count": 104,
     "metadata": {},
     "output_type": "execute_result"
    }
   ],
   "source": [
    "tb_prod = pd.concat(data_prod)\n",
    "year = tb_prod['year_month'].apply(lambda x: x.split('-')[0])\n",
    "tb_prod['year'] = year\n",
    "tb_prod.head()"
   ]
  },
  {
   "cell_type": "code",
   "execution_count": 105,
   "metadata": {},
   "outputs": [
    {
     "name": "stdout",
     "output_type": "stream",
     "text": [
      "country\n",
      "belgium             3344.790\n",
      "eire               17317.470\n",
      "france             25852.120\n",
      "germany            17082.260\n",
      "hong_kong           5852.110\n",
      "netherlands         3139.040\n",
      "portugal            3355.540\n",
      "spain               4348.000\n",
      "united_kingdom    822847.322\n",
      "Name: revenue, dtype: float64\n"
     ]
    }
   ],
   "source": [
    "print( tb_prod.groupby(['country'])['revenue'].sum())"
   ]
  },
  {
   "cell_type": "code",
   "execution_count": 106,
   "metadata": {},
   "outputs": [
    {
     "data": {
      "image/png": "[encoded data removed]",
      "text/plain": [
       "<Figure size 640x480 with 1 Axes>"
      ]
     },
     "metadata": {},
     "output_type": "display_data"
    }
   ],
   "source": [
    "res_prod_uk = tb_prod[tb_prod['country'] == 'united_kingdom'].groupby(['country','year'])['revenue'].sum().unstack()\n",
    "ax_prod_uk = res_prod_uk.plot.barh()\n",
    "ax_prod_uk.set_xscale(\"log\")"
   ]
  },
  {
   "cell_type": "code",
   "execution_count": 107,
   "metadata": {},
   "outputs": [
    {
     "data": {
      "image/png": "[encoded data removed]",
      "text/plain": [
       "<Figure size 640x480 with 1 Axes>"
      ]
     },
     "metadata": {},
     "output_type": "display_data"
    }
   ],
   "source": [
    "res_prod_all = tb_prod.groupby(['country','year'])['revenue'].sum().unstack()\n",
    "ax_prod_all = res_prod_all.plot.barh()"
   ]
  },
  {
   "cell_type": "code",
   "execution_count": 108,
   "metadata": {},
   "outputs": [
    {
     "data": {
      "image/png": "[encoded data removed]",
      "text/plain": [
       "<Figure size 640x480 with 1 Axes>"
      ]
     },
     "metadata": {},
     "output_type": "display_data"
    }
   ],
   "source": [
    "ax_res_prod_all_log = res_prod_all.plot.barh()\n",
    "ax_res_prod_all_log.set_xscale(\"log\")"
   ]
  },
  {
   "cell_type": "code",
   "execution_count": 109,
   "metadata": {},
   "outputs": [
    {
     "name": "stdout",
     "output_type": "stream",
     "text": [
      "... saving model: models\\sl-united_kingdom-0_1.joblib\n",
      "... saving model: models\\sl-france-0_1.joblib\n",
      "... saving model: models\\sl-germany-0_1.joblib\n",
      "... saving model: models\\sl-eire-0_1.joblib\n",
      "... saving model: models\\sl-singapore-0_1.joblib\n",
      "... saving model: models\\sl-hong_kong-0_1.joblib\n",
      "... saving model: models\\sl-spain-0_1.joblib\n",
      "... saving model: models\\sl-portugal-0_1.joblib\n",
      "... saving model: models\\sl-norway-0_1.joblib\n",
      "... saving model: models\\sl-netherlands-0_1.joblib\n"
     ]
    }
   ],
   "source": [
    "from cslib import load_data_from_csv\n",
    "from model import train_single_country, model_load\n",
    "\n",
    "df_train_uk = load_data_from_csv(data_train_dir, \"ts-\", \"united_kingdom\")\n",
    "df_train_fr = load_data_from_csv(data_train_dir, \"ts-\", \"france\")\n",
    "df_train_de = load_data_from_csv(data_train_dir, \"ts-\", \"germany\")\n",
    "df_train_ie = load_data_from_csv(data_train_dir, \"ts-\", \"eire\")\n",
    "df_train_sg = load_data_from_csv(data_train_dir, \"ts-\", \"singapore\")\n",
    "df_train_hk = load_data_from_csv(data_train_dir, \"ts-\", \"hong_kong\")\n",
    "df_train_es = load_data_from_csv(data_train_dir, \"ts-\", \"spain\")\n",
    "df_train_pt = load_data_from_csv(data_train_dir, \"ts-\", \"portugal\")\n",
    "df_train_no = load_data_from_csv(data_train_dir, \"ts-\", \"norway\")\n",
    "df_train_nl = load_data_from_csv(data_train_dir, \"ts-\", \"netherlands\")\n",
    "\n",
    "train_single_country(df_train_uk,\"united_kingdom\",\"sl\",test=False)\n",
    "train_single_country(df_train_fr,\"france\",\"sl\",test=False)\n",
    "train_single_country(df_train_de,\"germany\",\"sl\",test=False)\n",
    "train_single_country(df_train_ie,\"eire\",\"sl\",test=False)\n",
    "train_single_country(df_train_sg,\"singapore\",\"sl\",test=False)\n",
    "train_single_country(df_train_hk,\"hong_kong\",\"sl\",test=False)\n",
    "train_single_country(df_train_es,\"spain\",\"sl\",test=False)\n",
    "train_single_country(df_train_pt,\"portugal\",\"sl\",test=False)\n",
    "train_single_country(df_train_no,\"norway\",\"sl\",test=False)\n",
    "train_single_country(df_train_nl,\"netherlands\",\"sl\",test=False)"
   ]
  },
  {
   "cell_type": "code",
   "execution_count": 110,
   "metadata": {},
   "outputs": [
    {
     "name": "stdout",
     "output_type": "stream",
     "text": [
      "... saving model: models\\prod-united_kingdom-0_1.joblib\n",
      "... saving model: models\\prod-france-0_1.joblib\n",
      "... saving model: models\\prod-germany-0_1.joblib\n",
      "... saving model: models\\prod-eire-0_1.joblib\n",
      "... saving model: models\\prod-hong_kong-0_1.joblib\n",
      "... saving model: models\\prod-spain-0_1.joblib\n",
      "... saving model: models\\prod-portugal-0_1.joblib\n",
      "... saving model: models\\prod-belgium-0_1.joblib\n",
      "... saving model: models\\prod-netherlands-0_1.joblib\n"
     ]
    }
   ],
   "source": [
    "df_prod_uk = load_data_from_csv(data_prod_dir, \"ts-\", \"united_kingdom\")\n",
    "df_prod_fr = load_data_from_csv(data_prod_dir, \"ts-\", \"france\")\n",
    "df_prod_de = load_data_from_csv(data_prod_dir, \"ts-\", \"germany\")\n",
    "df_prod_ie = load_data_from_csv(data_prod_dir, \"ts-\", \"eire\")\n",
    "df_prod_sg = load_data_from_csv(data_prod_dir, \"ts-\", \"singapore\")\n",
    "df_prod_hk = load_data_from_csv(data_prod_dir, \"ts-\", \"hong_kong\")\n",
    "df_prod_es = load_data_from_csv(data_prod_dir, \"ts-\", \"spain\")\n",
    "df_prod_pt = load_data_from_csv(data_prod_dir, \"ts-\", \"portugal\")\n",
    "df_prod_be = load_data_from_csv(data_prod_dir, \"ts-\", \"belgium\")\n",
    "df_prod_nl = load_data_from_csv(data_prod_dir, \"ts-\", \"netherlands\")\n",
    "\n",
    "train_single_country(df_prod_uk,\"united_kingdom\",\"prod\",test=False)\n",
    "train_single_country(df_prod_fr,\"france\",\"prod\",test=False)\n",
    "train_single_country(df_prod_de,\"germany\",\"prod\",test=False)\n",
    "train_single_country(df_prod_ie,\"eire\",\"prod\",test=False)\n",
    "train_single_country(df_prod_sg,\"singapore\",\"prod\",test=False)\n",
    "train_single_country(df_prod_hk,\"hong_kong\",\"prod\",test=False)\n",
    "train_single_country(df_prod_es,\"spain\",\"prod\",test=False)\n",
    "train_single_country(df_prod_pt,\"portugal\",\"prod\",test=False)\n",
    "train_single_country(df_prod_be,\"belgium\",\"prod\",test=False)\n",
    "train_single_country(df_prod_nl,\"netherlands\",\"prod\",test=False)"
   ]
  },
  {
   "cell_type": "code",
   "execution_count": 111,
   "metadata": {},
   "outputs": [
    {
     "name": "stdout",
     "output_type": "stream",
     "text": [
      "Loading sl modules\n",
      "... loading ts data from files:data\\cs-train\n",
      "... models loaded:  eire,france,germany,hong_kong,netherlands,norway,portugal,singapore,spain,united_kingdom\n",
      "... data loaded:  all,eire,france,germany,hong_kong,netherlands,norway,portugal,singapore,spain,united_kingdom\n"
     ]
    }
   ],
   "source": [
    "print(\"Loading sl modules\")\n",
    "sl_data_dir = os.path.join(\"data\",\"cs-train\")\n",
    "all_sl_data, all_sl_models = model_load(\"sl\",data_dir=sl_data_dir,training=True)\n",
    "print(\"... models loaded: \",\",\".join(all_sl_models.keys()))\n",
    "print(\"... data loaded: \",\",\".join(all_sl_data.keys()))"
   ]
  },
  {
   "cell_type": "code",
   "execution_count": 112,
   "metadata": {},
   "outputs": [
    {
     "name": "stdout",
     "output_type": "stream",
     "text": [
      "2018-01-05\n",
      "{'y_pred': array([156861.7415]), 'y_proba': None}\n"
     ]
    }
   ],
   "source": [
    "from model import single_country_predict\n",
    "## UK predict\n",
    "country='united_kingdom'\n",
    "year='2018'\n",
    "month='01'\n",
    "day='05'\n",
    "result = single_country_predict(country,year,month,day,all_sl_models,all_sl_data,test=False)\n",
    "print(result)"
   ]
  },
  {
   "cell_type": "code",
   "execution_count": 113,
   "metadata": {},
   "outputs": [
    {
     "name": "stdout",
     "output_type": "stream",
     "text": [
      "2018-01-05\n",
      "{'y_pred': array([1504.21]), 'y_proba': None}\n"
     ]
    }
   ],
   "source": [
    "country='france'\n",
    "year='2018'\n",
    "month='01'\n",
    "day='05'\n",
    "result = single_country_predict(country,year,month,day,all_sl_models,all_sl_data,test=False)\n",
    "print(result)"
   ]
  },
  {
   "cell_type": "code",
   "execution_count": 114,
   "metadata": {},
   "outputs": [
    {
     "name": "stdout",
     "output_type": "stream",
     "text": [
      "2018-01-05\n",
      "{'y_pred': array([2254.382]), 'y_proba': None}\n"
     ]
    }
   ],
   "source": [
    "country='germany'\n",
    "year='2018'\n",
    "month='01'\n",
    "day='05'\n",
    "result = single_country_predict(country,year,month,day,all_sl_models,all_sl_data,test=False)\n",
    "print(result)"
   ]
  },
  {
   "cell_type": "code",
   "execution_count": 115,
   "metadata": {},
   "outputs": [
    {
     "name": "stdout",
     "output_type": "stream",
     "text": [
      "2018-01-05\n",
      "{'y_pred': array([11642.7585]), 'y_proba': None}\n"
     ]
    }
   ],
   "source": [
    "country='eire'\n",
    "year='2018'\n",
    "month='01'\n",
    "day='05'\n",
    "result = single_country_predict(country,year,month,day,all_sl_models,all_sl_data,test=False)\n",
    "print(result)"
   ]
  },
  {
   "cell_type": "code",
   "execution_count": 116,
   "metadata": {},
   "outputs": [
    {
     "name": "stdout",
     "output_type": "stream",
     "text": [
      "2018-04-25\n",
      "{'y_pred': array([0.]), 'y_proba': None}\n"
     ]
    }
   ],
   "source": [
    "country='singapore'\n",
    "year='2018'\n",
    "month='04'\n",
    "day='25'\n",
    "result = single_country_predict(country,year,month,day,all_sl_models,all_sl_data,test=False)\n",
    "print(result)"
   ]
  },
  {
   "cell_type": "code",
   "execution_count": 117,
   "metadata": {},
   "outputs": [
    {
     "name": "stdout",
     "output_type": "stream",
     "text": [
      "2018-04-19\n",
      "{'y_pred': array([0.]), 'y_proba': None}\n"
     ]
    }
   ],
   "source": [
    "country='hong_kong'\n",
    "year='2018'\n",
    "month='04'\n",
    "day='19'\n",
    "result = single_country_predict(country,year,month,day,all_sl_models,all_sl_data,test=False)\n",
    "print(result)"
   ]
  },
  {
   "cell_type": "code",
   "execution_count": 118,
   "metadata": {},
   "outputs": [
    {
     "name": "stdout",
     "output_type": "stream",
     "text": [
      "2018-01-05\n",
      "{'y_pred': array([3567.65]), 'y_proba': None}\n"
     ]
    }
   ],
   "source": [
    "country='spain'\n",
    "year='2018'\n",
    "month='01'\n",
    "day='05'\n",
    "result = single_country_predict(country,year,month,day,all_sl_models,all_sl_data,test=False)\n",
    "print(result)"
   ]
  },
  {
   "cell_type": "code",
   "execution_count": 119,
   "metadata": {},
   "outputs": [
    {
     "name": "stdout",
     "output_type": "stream",
     "text": [
      "2018-01-05\n",
      "{'y_pred': array([244.54]), 'y_proba': None}\n"
     ]
    }
   ],
   "source": [
    "country='portugal'\n",
    "year='2018'\n",
    "month='01'\n",
    "day='05'\n",
    "result = single_country_predict(country,year,month,day,all_sl_models,all_sl_data,test=False)\n",
    "print(result)"
   ]
  },
  {
   "cell_type": "code",
   "execution_count": 120,
   "metadata": {},
   "outputs": [
    {
     "name": "stdout",
     "output_type": "stream",
     "text": [
      "2018-09-05\n",
      "{'y_pred': array([139.74]), 'y_proba': None}\n"
     ]
    }
   ],
   "source": [
    "country='norway'\n",
    "year='2018'\n",
    "month='09'\n",
    "day='05'\n",
    "result = single_country_predict(country,year,month,day,all_sl_models,all_sl_data,test=False)\n",
    "print(result)"
   ]
  },
  {
   "cell_type": "code",
   "execution_count": 121,
   "metadata": {},
   "outputs": [
    {
     "name": "stdout",
     "output_type": "stream",
     "text": [
      "2018-01-05\n",
      "{'y_pred': array([378.95]), 'y_proba': None}\n"
     ]
    }
   ],
   "source": [
    "country='netherlands'\n",
    "year='2018'\n",
    "month='01'\n",
    "day='05'\n",
    "result = single_country_predict(country,year,month,day,all_sl_models,all_sl_data,test=False)\n",
    "print(result)"
   ]
  },
  {
   "cell_type": "code",
   "execution_count": 122,
   "metadata": {},
   "outputs": [
    {
     "name": "stdout",
     "output_type": "stream",
     "text": [
      "Loading prod modules\n",
      "... loading ts data from files:data\\cs-production\n",
      "... models loaded:  belgium,eire,france,germany,hong_kong,netherlands,portugal,spain,united_kingdom\n",
      "... data loaded:  all,belgium,eire,france,germany,hong_kong,netherlands,portugal,spain,united_kingdom\n"
     ]
    }
   ],
   "source": [
    "print(\"Loading prod modules\")\n",
    "prod_data_dir = os.path.join(\"data\",\"cs-production\")\n",
    "all_prod_data, all_prod_models = model_load(\"prod\",data_dir=prod_data_dir,training=True)\n",
    "print(\"... models loaded: \",\",\".join(all_prod_models.keys()))\n",
    "print(\"... data loaded: \",\",\".join(all_prod_data.keys()))"
   ]
  },
  {
   "cell_type": "code",
   "execution_count": 123,
   "metadata": {},
   "outputs": [
    {
     "name": "stdout",
     "output_type": "stream",
     "text": [
      "2019-10-31\n",
      "{'y_pred': array([307510.34666667]), 'y_proba': None}\n"
     ]
    }
   ],
   "source": [
    "country='united_kingdom'\n",
    "year='2019'\n",
    "month='10'\n",
    "day='31'\n",
    "result = single_country_predict(country,year,month,day,all_prod_models,all_prod_data,test=False)\n",
    "print(result)"
   ]
  },
  {
   "cell_type": "code",
   "execution_count": 124,
   "metadata": {},
   "outputs": [
    {
     "name": "stdout",
     "output_type": "stream",
     "text": [
      "2019-10-31\n",
      "{'y_pred': array([1227.734]), 'y_proba': None}\n"
     ]
    }
   ],
   "source": [
    "country='spain'\n",
    "year='2019'\n",
    "month='10'\n",
    "day='31'\n",
    "result = single_country_predict(country,year,month,day,all_prod_models,all_prod_data,test=False)\n",
    "print(result)"
   ]
  },
  {
   "cell_type": "code",
   "execution_count": 125,
   "metadata": {},
   "outputs": [
    {
     "name": "stdout",
     "output_type": "stream",
     "text": [
      "2019-10-31\n",
      "{'y_pred': array([615.3156]), 'y_proba': None}\n"
     ]
    }
   ],
   "source": [
    "country='portugal'\n",
    "year='2019'\n",
    "month='10'\n",
    "day='31'\n",
    "result = single_country_predict(country,year,month,day,all_prod_models,all_prod_data,test=False)\n",
    "print(result)"
   ]
  },
  {
   "cell_type": "code",
   "execution_count": 126,
   "metadata": {},
   "outputs": [
    {
     "name": "stdout",
     "output_type": "stream",
     "text": [
      "2019-10-31\n",
      "{'y_pred': array([532.939]), 'y_proba': None}\n"
     ]
    }
   ],
   "source": [
    "country='netherlands'\n",
    "year='2019'\n",
    "month='10'\n",
    "day='31'\n",
    "result = single_country_predict(country,year,month,day,all_prod_models,all_prod_data,test=False)\n",
    "print(result)"
   ]
  },
  {
   "cell_type": "code",
   "execution_count": 127,
   "metadata": {},
   "outputs": [
    {
     "name": "stdout",
     "output_type": "stream",
     "text": [
      "2019-10-01\n",
      "{'y_pred': array([129.46]), 'y_proba': None}\n"
     ]
    }
   ],
   "source": [
    "country='hong_kong'\n",
    "year='2019'\n",
    "month='10'\n",
    "day='01'\n",
    "result = single_country_predict(country,year,month,day,all_prod_models,all_prod_data,test=False)\n",
    "print(result)"
   ]
  },
  {
   "cell_type": "code",
   "execution_count": 128,
   "metadata": {},
   "outputs": [
    {
     "name": "stdout",
     "output_type": "stream",
     "text": [
      "2019-10-31\n",
      "{'y_pred': array([6242.4195]), 'y_proba': None}\n"
     ]
    }
   ],
   "source": [
    "country='germany'\n",
    "year='2019'\n",
    "month='10'\n",
    "day='31'\n",
    "result = single_country_predict(country,year,month,day,all_prod_models,all_prod_data,test=False)\n",
    "print(result)"
   ]
  },
  {
   "cell_type": "code",
   "execution_count": 129,
   "metadata": {},
   "outputs": [
    {
     "name": "stdout",
     "output_type": "stream",
     "text": [
      "2019-10-31\n",
      "{'y_pred': array([1227.734]), 'y_proba': None}\n"
     ]
    }
   ],
   "source": [
    "country='spain'\n",
    "year='2019'\n",
    "month='10'\n",
    "day='31'\n",
    "result = single_country_predict(country,year,month,day,all_prod_models,all_prod_data,test=False)\n",
    "print(result)"
   ]
  },
  {
   "cell_type": "code",
   "execution_count": 130,
   "metadata": {},
   "outputs": [
    {
     "name": "stdout",
     "output_type": "stream",
     "text": [
      "2019-08-02\n",
      "{'y_pred': array([1981.57]), 'y_proba': None}\n"
     ]
    }
   ],
   "source": [
    "country='france'\n",
    "year='2019'\n",
    "month='08'\n",
    "day='02'\n",
    "result = single_country_predict(country,year,month,day,all_prod_models,all_prod_data,test=False)\n",
    "print(result)"
   ]
  },
  {
   "cell_type": "code",
   "execution_count": 131,
   "metadata": {},
   "outputs": [
    {
     "name": "stdout",
     "output_type": "stream",
     "text": [
      "2019-08-02\n",
      "{'y_pred': array([3973.1616]), 'y_proba': None}\n"
     ]
    }
   ],
   "source": [
    "country='eire'\n",
    "year='2019'\n",
    "month='08'\n",
    "day='02'\n",
    "result = single_country_predict(country,year,month,day,all_prod_models,all_prod_data,test=False)\n",
    "print(result)"
   ]
  },
  {
   "cell_type": "code",
   "execution_count": 132,
   "metadata": {},
   "outputs": [
    {
     "name": "stdout",
     "output_type": "stream",
     "text": [
      "2019-08-02\n",
      "{'y_pred': array([519.75]), 'y_proba': None}\n"
     ]
    }
   ],
   "source": [
    "country='belgium'\n",
    "year='2019'\n",
    "month='08'\n",
    "day='02'\n",
    "result = single_country_predict(country,year,month,day,all_prod_models,all_prod_data,test=False)\n",
    "print(result)"
   ]
  },
  {
   "cell_type": "code",
   "execution_count": null,
   "metadata": {},
   "outputs": [],
   "source": []
  }
 ],
 "metadata": {
  "kernelspec": {
   "display_name": "Python 3 (ipykernel)",
   "language": "python",
   "name": "python3"
  },
  "language_info": {
   "codemirror_mode": {
    "name": "ipython",
    "version": 3
   },
   "file_extension": ".py",
   "mimetype": "text/x-python",
   "name": "python",
   "nbconvert_exporter": "python",
   "pygments_lexer": "ipython3",
   "version": "3.11.4"
  }
 },
 "nbformat": 4,
 "nbformat_minor": 4
}
